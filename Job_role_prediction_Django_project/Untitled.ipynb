{
 "cells": [
  {
   "cell_type": "code",
   "execution_count": 1,
   "id": "3484c601",
   "metadata": {},
   "outputs": [],
   "source": [
    "import numpy as np\n",
    "import pandas as pd\n",
    "import matplotlib.pyplot as plt\n",
    "import seaborn as sn\n",
    "from sklearn.model_selection import train_test_split\n",
    "from sklearn.preprocessing import LabelEncoder, MinMaxScaler, OneHotEncoder\n",
    "from sklearn.impute import SimpleImputer\n",
    "from sklearn.compose import ColumnTransformer\n",
    "from sklearn.pipeline import Pipeline\n",
    "from sklearn.ensemble import RandomForestClassifier\n",
    "import pickle"
   ]
  },
  {
   "cell_type": "code",
   "execution_count": 2,
   "id": "99ad1b12",
   "metadata": {},
   "outputs": [],
   "source": [
    "# Load data\n",
    "df = pd.read_csv(\"student placement data.csv\").sample(10000)"
   ]
  },
  {
   "cell_type": "code",
   "execution_count": 3,
   "id": "cee7a1d5",
   "metadata": {},
   "outputs": [],
   "source": [
    "X = df.drop(columns = [\"Salary Range Expected\",\n",
    "                       \"Suggested Job Role\",\n",
    "                       \"Acedamic percentage in Operating Systems\",\n",
    "                       \"percentage in Algorithms\",\n",
    "                       \"Percentage in Programming Concepts\",\n",
    "                      \"Percentage in Software Engineering\",\n",
    "                       \"Percentage in Computer Networks\",\n",
    "                      \"Percentage in Electronics Subjects\",\n",
    "                      \"Percentage in Computer Architecture\",\n",
    "                      \"Percentage in Mathematics\",\n",
    "                      \"Percentage in Communication skills\",\n",
    "                      \"Hours working per day\",\n",
    "                      \"can work long time before system?\",\n",
    "                      \"talenttests taken?\",\n",
    "                      \"olympiads\",\n",
    "                      \"Job/Higher Studies?\",\n",
    "                      \"Taken inputs from seniors or elders\",\n",
    "                      \"interested in games\",\n",
    "                      \"In a Realtionship?\",\n",
    "                      \"Gentle or Tuff behaviour?\",\n",
    "                      \"Salary/work\",])"
   ]
  },
  {
   "cell_type": "code",
   "execution_count": 4,
   "id": "85a5ac87",
   "metadata": {},
   "outputs": [],
   "source": [
    "# Add other columns to drop here\n",
    "y = df[\"Suggested Job Role\"]"
   ]
  },
  {
   "cell_type": "code",
   "execution_count": 5,
   "id": "50ae687f",
   "metadata": {},
   "outputs": [
    {
     "data": {
      "text/plain": [
       "(10000, 39)"
      ]
     },
     "execution_count": 5,
     "metadata": {},
     "output_type": "execute_result"
    }
   ],
   "source": [
    "df.shape"
   ]
  },
  {
   "cell_type": "code",
   "execution_count": 6,
   "id": "7c74fbf6",
   "metadata": {},
   "outputs": [
    {
     "data": {
      "text/plain": [
       "(10000, 18)"
      ]
     },
     "execution_count": 6,
     "metadata": {},
     "output_type": "execute_result"
    }
   ],
   "source": [
    "X.shape"
   ]
  },
  {
   "cell_type": "code",
   "execution_count": 7,
   "id": "964a2e9d",
   "metadata": {},
   "outputs": [],
   "source": [
    "# Label encoding for target variable\n",
    "le = LabelEncoder()\n",
    "y = le.fit_transform(y)"
   ]
  },
  {
   "cell_type": "code",
   "execution_count": 8,
   "id": "522a31ed",
   "metadata": {},
   "outputs": [],
   "source": [
    "# Train-test split\n",
    "X_train, X_test, y_train, y_test = train_test_split(X, y, test_size=0.2, random_state=42)"
   ]
  },
  {
   "cell_type": "code",
   "execution_count": 9,
   "id": "368d98f8",
   "metadata": {},
   "outputs": [],
   "source": [
    "# Define pipelines for preprocessing numerical and categorical data\n",
    "num_col = X.select_dtypes(include=[\"int64\"]).columns.tolist()\n",
    "obj_col = X.select_dtypes(include=[\"object\"]).columns.tolist()"
   ]
  },
  {
   "cell_type": "code",
   "execution_count": 10,
   "id": "35d81477",
   "metadata": {},
   "outputs": [],
   "source": [
    "num_pipeline = Pipeline([\n",
    "    (\"imputer\", SimpleImputer(strategy=\"median\")),\n",
    "    (\"scaler\", MinMaxScaler())\n",
    "])\n"
   ]
  },
  {
   "cell_type": "code",
   "execution_count": 11,
   "id": "2b9eff4b",
   "metadata": {},
   "outputs": [],
   "source": [
    "obj_pipeline = Pipeline([\n",
    "    (\"imputer\", SimpleImputer(strategy=\"most_frequent\")),\n",
    "    (\"onehot\", OneHotEncoder(handle_unknown='ignore'))\n",
    "])"
   ]
  },
  {
   "cell_type": "code",
   "execution_count": 12,
   "id": "e2931a6e",
   "metadata": {},
   "outputs": [],
   "source": [
    "processor = ColumnTransformer([\n",
    "    (\"num\", num_pipeline, num_col),\n",
    "    (\"obj\", obj_pipeline, obj_col)\n",
    "])"
   ]
  },
  {
   "cell_type": "code",
   "execution_count": 13,
   "id": "dfa23ce9",
   "metadata": {},
   "outputs": [],
   "source": [
    "# Transform the data\n",
    "X_train_processed = processor.fit_transform(X_train)\n",
    "X_test_processed = processor.transform(X_test)"
   ]
  },
  {
   "cell_type": "code",
   "execution_count": 14,
   "id": "6c05d2fe",
   "metadata": {},
   "outputs": [],
   "source": [
    "# Define models for evaluation\n",
    "models = {\n",
    "    \"Random Forest\": RandomForestClassifier(n_estimators=200),\n",
    "}\n"
   ]
  },
  {
   "cell_type": "code",
   "execution_count": 15,
   "id": "235c9aa6",
   "metadata": {},
   "outputs": [],
   "source": [
    "# Evaluate models function (ensure it's defined once)\n",
    "def evaluate_models(X_train, y_train, X_test, y_test, models):\n",
    "    report = {}\n",
    "    for name, model in models.items():\n",
    "        model.fit(X_train, y_train)\n",
    "        train_accuracy = model.score(X_train, y_train)\n",
    "        test_accuracy = model.score(X_test, y_test)\n",
    "        report[name] = [train_accuracy, test_accuracy]\n",
    "    return report"
   ]
  },
  {
   "cell_type": "code",
   "execution_count": 16,
   "id": "6082ae8e",
   "metadata": {},
   "outputs": [],
   "source": [
    "# Evaluate models and save the best one\n",
    "model_scores = evaluate_models(X_train_processed, y_train, X_test_processed, y_test, models)"
   ]
  },
  {
   "cell_type": "code",
   "execution_count": 17,
   "id": "a6a87ea2",
   "metadata": {},
   "outputs": [],
   "source": [
    "best_model_name = max(model_scores.keys(), key=lambda x: model_scores[x][1])\n",
    "best_model = models[best_model_name]"
   ]
  },
  {
   "cell_type": "code",
   "execution_count": 18,
   "id": "27d77a45",
   "metadata": {},
   "outputs": [
    {
     "name": "stdout",
     "output_type": "stream",
     "text": [
      "Random Forest model saved successfully!\n"
     ]
    }
   ],
   "source": [
    "with open(\"best_student_job_role_model.pkl\", \"wb\") as f:\n",
    "    pickle.dump(best_model, f)\n",
    "\n",
    "print(f\"{best_model_name} model saved successfully!\")"
   ]
  },
  {
   "cell_type": "code",
   "execution_count": 19,
   "id": "154c78b4",
   "metadata": {},
   "outputs": [],
   "source": [
    "# Save the label encoder\n",
    "with open(\"label_encoder.pkl\", \"wb\") as f:\n",
    "    pickle.dump(le, f)"
   ]
  },
  {
   "cell_type": "code",
   "execution_count": 20,
   "id": "5937cc6e",
   "metadata": {},
   "outputs": [
    {
     "name": "stdout",
     "output_type": "stream",
     "text": [
      "Predicted Job Role: Network Security Administrator\n"
     ]
    }
   ],
   "source": [
    "import pickle\n",
    "import pandas as pd\n",
    "\n",
    "# Load the saved model\n",
    "with open(\"best_student_job_role_model.pkl\", \"rb\") as f:\n",
    "    loaded_model = pickle.load(f)\n",
    "\n",
    "# Example input data for prediction (make sure to format it correctly)\n",
    "# Replace this with your actual input data\n",
    "input_data = {\n",
    "    \"Logical quotient rating\": [7],\n",
    "    \"hackathons\": [5],\n",
    "    \"coding skills rating\": [3],\n",
    "    \"public speaking points\": [2],\n",
    "    \"self-learning capability?\": [\"no\"],\n",
    "    \"Extra-courses did\": [\"yes\"],\n",
    "    \"certifications\": [\"python\"],\n",
    "    \"workshops\": [\"web technologies\"],\n",
    "    \"reading and writing skills\": [\"medium\"],\n",
    "    \"memory capability score\": [\"poor\"],\n",
    "    \"Interested subjects\": [\"data engineering\"],\n",
    "    \"interested career area \": [\"developer\"],\n",
    "    \"Type of company want to settle in?\": [\"Testing and Maintainance Services\"],\n",
    "    \"Interested Type of Books\": [\"Cookbooks\"],\n",
    "    \"Management or Technical\": [\"Management\"],\n",
    "    \"hard/smart worker\": [\"smart worker\"],\n",
    "    \"worked in teams ever?\": [\"no\"],\n",
    "    \"Introvert\": [\"no\"]\n",
    "}\n",
    "\n",
    "# Convert input data into DataFrame\n",
    "input_df = pd.DataFrame(input_data)\n",
    "\n",
    "# Preprocess the input data using the same processor used for training\n",
    "input_processed = processor.transform(input_df)\n",
    "\n",
    "# Make predictions\n",
    "predictions = loaded_model.predict(input_processed)\n",
    "\n",
    "# Decode the predictions back to original labels\n",
    "predicted_labels = le.inverse_transform(predictions)\n",
    "\n",
    "# Display the predicted job role\n",
    "print(f\"Predicted Job Role: {predicted_labels[0]}\")\n"
   ]
  },
  {
   "cell_type": "code",
   "execution_count": 21,
   "id": "36e1d350",
   "metadata": {},
   "outputs": [
    {
     "name": "stdout",
     "output_type": "stream",
     "text": [
      "Processor saved successfully!\n"
     ]
    }
   ],
   "source": [
    "# Save the processor\n",
    "with open(\"processor.pkl\", \"wb\") as f:\n",
    "    pickle.dump(processor, f)\n",
    "\n",
    "print(\"Processor saved successfully!\")"
   ]
  },
  {
   "cell_type": "code",
   "execution_count": null,
   "id": "0ab65305",
   "metadata": {},
   "outputs": [],
   "source": []
  }
 ],
 "metadata": {
  "kernelspec": {
   "display_name": "Python 3 (ipykernel)",
   "language": "python",
   "name": "python3"
  },
  "language_info": {
   "codemirror_mode": {
    "name": "ipython",
    "version": 3
   },
   "file_extension": ".py",
   "mimetype": "text/x-python",
   "name": "python",
   "nbconvert_exporter": "python",
   "pygments_lexer": "ipython3",
   "version": "3.10.5"
  }
 },
 "nbformat": 4,
 "nbformat_minor": 5
}
