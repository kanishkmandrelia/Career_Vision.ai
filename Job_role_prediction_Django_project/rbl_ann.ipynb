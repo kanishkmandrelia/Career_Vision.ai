{
 "cells": [
  {
   "cell_type": "code",
   "execution_count": 1,
   "metadata": {},
   "outputs": [],
   "source": [
    "import numpy as np\n",
    "import pandas as pd\n",
    "import matplotlib.pyplot as plt\n",
    "import seaborn as sn\n",
    "import pickle\n",
    "import warnings \n",
    "from sklearn.preprocessing import OneHotEncoder, StandardScaler, LabelEncoder\n",
    "from sklearn.model_selection import train_test_split\n",
    "from sklearn.metrics import accuracy_score, confusion_matrix, classification_report\n",
    "from sklearn.neural_network import MLPClassifier\n",
    "from sklearn.decomposition import PCA\n",
    "from scipy import sparse\n",
    "from imblearn.over_sampling import RandomOverSampler\n",
    "warnings.filterwarnings(\"ignore\")"
   ]
  },
  {
   "cell_type": "code",
   "execution_count": 2,
   "metadata": {},
   "outputs": [
    {
     "data": {
      "text/html": [
       "<div>\n",
       "<style scoped>\n",
       "    .dataframe tbody tr th:only-of-type {\n",
       "        vertical-align: middle;\n",
       "    }\n",
       "\n",
       "    .dataframe tbody tr th {\n",
       "        vertical-align: top;\n",
       "    }\n",
       "\n",
       "    .dataframe thead th {\n",
       "        text-align: right;\n",
       "    }\n",
       "</style>\n",
       "<table border=\"1\" class=\"dataframe\">\n",
       "  <thead>\n",
       "    <tr style=\"text-align: right;\">\n",
       "      <th></th>\n",
       "      <th>Logical quotient rating</th>\n",
       "      <th>hackathons</th>\n",
       "      <th>coding skills rating</th>\n",
       "      <th>public speaking points</th>\n",
       "      <th>certifications</th>\n",
       "      <th>workshops</th>\n",
       "      <th>Interested subjects</th>\n",
       "      <th>interested career area</th>\n",
       "      <th>Type of company want to settle in?</th>\n",
       "      <th>Management or Technical</th>\n",
       "      <th>worked in teams ever?</th>\n",
       "      <th>Introvert</th>\n",
       "      <th>Suggested Job Role</th>\n",
       "    </tr>\n",
       "  </thead>\n",
       "  <tbody>\n",
       "    <tr>\n",
       "      <th>0</th>\n",
       "      <td>4</td>\n",
       "      <td>0</td>\n",
       "      <td>4</td>\n",
       "      <td>8</td>\n",
       "      <td>shell programming</td>\n",
       "      <td>cloud computing</td>\n",
       "      <td>cloud computing</td>\n",
       "      <td>system developer</td>\n",
       "      <td>Web Services</td>\n",
       "      <td>Management</td>\n",
       "      <td>yes</td>\n",
       "      <td>no</td>\n",
       "      <td>Database Developer</td>\n",
       "    </tr>\n",
       "    <tr>\n",
       "      <th>1</th>\n",
       "      <td>7</td>\n",
       "      <td>1</td>\n",
       "      <td>2</td>\n",
       "      <td>3</td>\n",
       "      <td>machine learning</td>\n",
       "      <td>database security</td>\n",
       "      <td>networks</td>\n",
       "      <td>Business process analyst</td>\n",
       "      <td>SAaS services</td>\n",
       "      <td>Technical</td>\n",
       "      <td>no</td>\n",
       "      <td>yes</td>\n",
       "      <td>Portal Administrator</td>\n",
       "    </tr>\n",
       "    <tr>\n",
       "      <th>2</th>\n",
       "      <td>1</td>\n",
       "      <td>4</td>\n",
       "      <td>1</td>\n",
       "      <td>3</td>\n",
       "      <td>app development</td>\n",
       "      <td>web technologies</td>\n",
       "      <td>hacking</td>\n",
       "      <td>developer</td>\n",
       "      <td>Sales and Marketing</td>\n",
       "      <td>Management</td>\n",
       "      <td>no</td>\n",
       "      <td>yes</td>\n",
       "      <td>Portal Administrator</td>\n",
       "    </tr>\n",
       "    <tr>\n",
       "      <th>3</th>\n",
       "      <td>1</td>\n",
       "      <td>1</td>\n",
       "      <td>2</td>\n",
       "      <td>5</td>\n",
       "      <td>python</td>\n",
       "      <td>data science</td>\n",
       "      <td>networks</td>\n",
       "      <td>testing</td>\n",
       "      <td>Testing and Maintainance Services</td>\n",
       "      <td>Management</td>\n",
       "      <td>yes</td>\n",
       "      <td>yes</td>\n",
       "      <td>Systems Security Administrator</td>\n",
       "    </tr>\n",
       "    <tr>\n",
       "      <th>4</th>\n",
       "      <td>5</td>\n",
       "      <td>4</td>\n",
       "      <td>6</td>\n",
       "      <td>3</td>\n",
       "      <td>app development</td>\n",
       "      <td>cloud computing</td>\n",
       "      <td>Computer Architecture</td>\n",
       "      <td>testing</td>\n",
       "      <td>product development</td>\n",
       "      <td>Management</td>\n",
       "      <td>yes</td>\n",
       "      <td>yes</td>\n",
       "      <td>Business Systems Analyst</td>\n",
       "    </tr>\n",
       "    <tr>\n",
       "      <th>...</th>\n",
       "      <td>...</td>\n",
       "      <td>...</td>\n",
       "      <td>...</td>\n",
       "      <td>...</td>\n",
       "      <td>...</td>\n",
       "      <td>...</td>\n",
       "      <td>...</td>\n",
       "      <td>...</td>\n",
       "      <td>...</td>\n",
       "      <td>...</td>\n",
       "      <td>...</td>\n",
       "      <td>...</td>\n",
       "      <td>...</td>\n",
       "    </tr>\n",
       "    <tr>\n",
       "      <th>19995</th>\n",
       "      <td>2</td>\n",
       "      <td>6</td>\n",
       "      <td>1</td>\n",
       "      <td>8</td>\n",
       "      <td>app development</td>\n",
       "      <td>cloud computing</td>\n",
       "      <td>Software Engineering</td>\n",
       "      <td>system developer</td>\n",
       "      <td>Testing and Maintainance Services</td>\n",
       "      <td>Management</td>\n",
       "      <td>yes</td>\n",
       "      <td>no</td>\n",
       "      <td>Technical Engineer</td>\n",
       "    </tr>\n",
       "    <tr>\n",
       "      <th>19996</th>\n",
       "      <td>8</td>\n",
       "      <td>0</td>\n",
       "      <td>9</td>\n",
       "      <td>8</td>\n",
       "      <td>full stack</td>\n",
       "      <td>game development</td>\n",
       "      <td>Management</td>\n",
       "      <td>Business process analyst</td>\n",
       "      <td>Product based</td>\n",
       "      <td>Management</td>\n",
       "      <td>no</td>\n",
       "      <td>yes</td>\n",
       "      <td>E-Commerce Analyst</td>\n",
       "    </tr>\n",
       "    <tr>\n",
       "      <th>19997</th>\n",
       "      <td>3</td>\n",
       "      <td>6</td>\n",
       "      <td>2</td>\n",
       "      <td>3</td>\n",
       "      <td>information security</td>\n",
       "      <td>database security</td>\n",
       "      <td>networks</td>\n",
       "      <td>cloud computing</td>\n",
       "      <td>SAaS services</td>\n",
       "      <td>Technical</td>\n",
       "      <td>no</td>\n",
       "      <td>yes</td>\n",
       "      <td>Business Intelligence Analyst</td>\n",
       "    </tr>\n",
       "    <tr>\n",
       "      <th>19998</th>\n",
       "      <td>1</td>\n",
       "      <td>4</td>\n",
       "      <td>9</td>\n",
       "      <td>5</td>\n",
       "      <td>full stack</td>\n",
       "      <td>cloud computing</td>\n",
       "      <td>IOT</td>\n",
       "      <td>testing</td>\n",
       "      <td>Cloud Services</td>\n",
       "      <td>Management</td>\n",
       "      <td>yes</td>\n",
       "      <td>no</td>\n",
       "      <td>Software Quality Assurance (QA) / Testing</td>\n",
       "    </tr>\n",
       "    <tr>\n",
       "      <th>19999</th>\n",
       "      <td>3</td>\n",
       "      <td>1</td>\n",
       "      <td>7</td>\n",
       "      <td>6</td>\n",
       "      <td>app development</td>\n",
       "      <td>database security</td>\n",
       "      <td>IOT</td>\n",
       "      <td>testing</td>\n",
       "      <td>Finance</td>\n",
       "      <td>Management</td>\n",
       "      <td>yes</td>\n",
       "      <td>no</td>\n",
       "      <td>Applications Developer</td>\n",
       "    </tr>\n",
       "  </tbody>\n",
       "</table>\n",
       "<p>20000 rows × 13 columns</p>\n",
       "</div>"
      ],
      "text/plain": [
       "       Logical quotient rating  hackathons  coding skills rating  \\\n",
       "0                            4           0                     4   \n",
       "1                            7           1                     2   \n",
       "2                            1           4                     1   \n",
       "3                            1           1                     2   \n",
       "4                            5           4                     6   \n",
       "...                        ...         ...                   ...   \n",
       "19995                        2           6                     1   \n",
       "19996                        8           0                     9   \n",
       "19997                        3           6                     2   \n",
       "19998                        1           4                     9   \n",
       "19999                        3           1                     7   \n",
       "\n",
       "       public speaking points        certifications          workshops  \\\n",
       "0                           8     shell programming    cloud computing   \n",
       "1                           3      machine learning  database security   \n",
       "2                           3       app development   web technologies   \n",
       "3                           5                python       data science   \n",
       "4                           3       app development    cloud computing   \n",
       "...                       ...                   ...                ...   \n",
       "19995                       8       app development    cloud computing   \n",
       "19996                       8            full stack   game development   \n",
       "19997                       3  information security  database security   \n",
       "19998                       5            full stack    cloud computing   \n",
       "19999                       6       app development  database security   \n",
       "\n",
       "         Interested subjects   interested career area   \\\n",
       "0            cloud computing          system developer   \n",
       "1                   networks  Business process analyst   \n",
       "2                    hacking                 developer   \n",
       "3                   networks                   testing   \n",
       "4      Computer Architecture                   testing   \n",
       "...                      ...                       ...   \n",
       "19995   Software Engineering          system developer   \n",
       "19996             Management  Business process analyst   \n",
       "19997               networks           cloud computing   \n",
       "19998                    IOT                   testing   \n",
       "19999                    IOT                   testing   \n",
       "\n",
       "      Type of company want to settle in? Management or Technical  \\\n",
       "0                           Web Services              Management   \n",
       "1                          SAaS services               Technical   \n",
       "2                    Sales and Marketing              Management   \n",
       "3      Testing and Maintainance Services              Management   \n",
       "4                    product development              Management   \n",
       "...                                  ...                     ...   \n",
       "19995  Testing and Maintainance Services              Management   \n",
       "19996                      Product based              Management   \n",
       "19997                      SAaS services               Technical   \n",
       "19998                     Cloud Services              Management   \n",
       "19999                            Finance              Management   \n",
       "\n",
       "      worked in teams ever? Introvert  \\\n",
       "0                       yes        no   \n",
       "1                        no       yes   \n",
       "2                        no       yes   \n",
       "3                       yes       yes   \n",
       "4                       yes       yes   \n",
       "...                     ...       ...   \n",
       "19995                   yes        no   \n",
       "19996                    no       yes   \n",
       "19997                    no       yes   \n",
       "19998                   yes        no   \n",
       "19999                   yes        no   \n",
       "\n",
       "                              Suggested Job Role  \n",
       "0                             Database Developer  \n",
       "1                           Portal Administrator  \n",
       "2                           Portal Administrator  \n",
       "3                 Systems Security Administrator  \n",
       "4                       Business Systems Analyst  \n",
       "...                                          ...  \n",
       "19995                         Technical Engineer  \n",
       "19996                         E-Commerce Analyst  \n",
       "19997              Business Intelligence Analyst  \n",
       "19998  Software Quality Assurance (QA) / Testing  \n",
       "19999                     Applications Developer  \n",
       "\n",
       "[20000 rows x 13 columns]"
      ]
     },
     "execution_count": 2,
     "metadata": {},
     "output_type": "execute_result"
    }
   ],
   "source": [
    "df = pd.read_csv(\"C:/Users/Hp/Downloads/student_placement_data_updated.csv\")\n",
    "df"
   ]
  },
  {
   "cell_type": "code",
   "execution_count": 3,
   "metadata": {},
   "outputs": [
    {
     "data": {
      "text/plain": [
       "Index(['Logical quotient rating', 'hackathons', 'coding skills rating',\n",
       "       'public speaking points', 'certifications', 'workshops',\n",
       "       'Interested subjects', 'interested career area ',\n",
       "       'Type of company want to settle in?', 'Management or Technical',\n",
       "       'worked in teams ever?', 'Introvert', 'Suggested Job Role'],\n",
       "      dtype='object')"
      ]
     },
     "execution_count": 3,
     "metadata": {},
     "output_type": "execute_result"
    }
   ],
   "source": [
    "df.columns"
   ]
  },
  {
   "cell_type": "code",
   "execution_count": 4,
   "metadata": {},
   "outputs": [
    {
     "data": {
      "text/plain": [
       "(20000, 13)"
      ]
     },
     "execution_count": 4,
     "metadata": {},
     "output_type": "execute_result"
    }
   ],
   "source": [
    "df.shape"
   ]
  },
  {
   "cell_type": "code",
   "execution_count": 5,
   "metadata": {},
   "outputs": [
    {
     "data": {
      "text/html": [
       "<div>\n",
       "<style scoped>\n",
       "    .dataframe tbody tr th:only-of-type {\n",
       "        vertical-align: middle;\n",
       "    }\n",
       "\n",
       "    .dataframe tbody tr th {\n",
       "        vertical-align: top;\n",
       "    }\n",
       "\n",
       "    .dataframe thead th {\n",
       "        text-align: right;\n",
       "    }\n",
       "</style>\n",
       "<table border=\"1\" class=\"dataframe\">\n",
       "  <thead>\n",
       "    <tr style=\"text-align: right;\">\n",
       "      <th></th>\n",
       "      <th>Logical quotient rating</th>\n",
       "      <th>hackathons</th>\n",
       "      <th>coding skills rating</th>\n",
       "      <th>public speaking points</th>\n",
       "    </tr>\n",
       "  </thead>\n",
       "  <tbody>\n",
       "    <tr>\n",
       "      <th>count</th>\n",
       "      <td>20000.000000</td>\n",
       "      <td>20000.000000</td>\n",
       "      <td>20000.000000</td>\n",
       "      <td>20000.000000</td>\n",
       "    </tr>\n",
       "    <tr>\n",
       "      <th>mean</th>\n",
       "      <td>4.995050</td>\n",
       "      <td>2.992650</td>\n",
       "      <td>5.004750</td>\n",
       "      <td>5.012800</td>\n",
       "    </tr>\n",
       "    <tr>\n",
       "      <th>std</th>\n",
       "      <td>2.578383</td>\n",
       "      <td>2.005791</td>\n",
       "      <td>2.576831</td>\n",
       "      <td>2.588875</td>\n",
       "    </tr>\n",
       "    <tr>\n",
       "      <th>min</th>\n",
       "      <td>1.000000</td>\n",
       "      <td>0.000000</td>\n",
       "      <td>1.000000</td>\n",
       "      <td>1.000000</td>\n",
       "    </tr>\n",
       "    <tr>\n",
       "      <th>25%</th>\n",
       "      <td>3.000000</td>\n",
       "      <td>1.000000</td>\n",
       "      <td>3.000000</td>\n",
       "      <td>3.000000</td>\n",
       "    </tr>\n",
       "    <tr>\n",
       "      <th>50%</th>\n",
       "      <td>5.000000</td>\n",
       "      <td>3.000000</td>\n",
       "      <td>5.000000</td>\n",
       "      <td>5.000000</td>\n",
       "    </tr>\n",
       "    <tr>\n",
       "      <th>75%</th>\n",
       "      <td>7.000000</td>\n",
       "      <td>5.000000</td>\n",
       "      <td>7.000000</td>\n",
       "      <td>7.000000</td>\n",
       "    </tr>\n",
       "    <tr>\n",
       "      <th>max</th>\n",
       "      <td>9.000000</td>\n",
       "      <td>6.000000</td>\n",
       "      <td>9.000000</td>\n",
       "      <td>9.000000</td>\n",
       "    </tr>\n",
       "  </tbody>\n",
       "</table>\n",
       "</div>"
      ],
      "text/plain": [
       "       Logical quotient rating    hackathons  coding skills rating  \\\n",
       "count             20000.000000  20000.000000          20000.000000   \n",
       "mean                  4.995050      2.992650              5.004750   \n",
       "std                   2.578383      2.005791              2.576831   \n",
       "min                   1.000000      0.000000              1.000000   \n",
       "25%                   3.000000      1.000000              3.000000   \n",
       "50%                   5.000000      3.000000              5.000000   \n",
       "75%                   7.000000      5.000000              7.000000   \n",
       "max                   9.000000      6.000000              9.000000   \n",
       "\n",
       "       public speaking points  \n",
       "count            20000.000000  \n",
       "mean                 5.012800  \n",
       "std                  2.588875  \n",
       "min                  1.000000  \n",
       "25%                  3.000000  \n",
       "50%                  5.000000  \n",
       "75%                  7.000000  \n",
       "max                  9.000000  "
      ]
     },
     "execution_count": 5,
     "metadata": {},
     "output_type": "execute_result"
    }
   ],
   "source": [
    "df.describe()"
   ]
  },
  {
   "cell_type": "code",
   "execution_count": 6,
   "metadata": {},
   "outputs": [
    {
     "data": {
      "text/html": [
       "<div>\n",
       "<style scoped>\n",
       "    .dataframe tbody tr th:only-of-type {\n",
       "        vertical-align: middle;\n",
       "    }\n",
       "\n",
       "    .dataframe tbody tr th {\n",
       "        vertical-align: top;\n",
       "    }\n",
       "\n",
       "    .dataframe thead th {\n",
       "        text-align: right;\n",
       "    }\n",
       "</style>\n",
       "<table border=\"1\" class=\"dataframe\">\n",
       "  <thead>\n",
       "    <tr style=\"text-align: right;\">\n",
       "      <th></th>\n",
       "      <th>Column_name</th>\n",
       "      <th>unique_values</th>\n",
       "    </tr>\n",
       "  </thead>\n",
       "  <tbody>\n",
       "    <tr>\n",
       "      <th>0</th>\n",
       "      <td>Logical quotient rating</td>\n",
       "      <td>[4, 7, 1, 5, 3, 2, 9, 6, 8]</td>\n",
       "    </tr>\n",
       "    <tr>\n",
       "      <th>1</th>\n",
       "      <td>hackathons</td>\n",
       "      <td>[0, 1, 4, 3, 2, 6, 5]</td>\n",
       "    </tr>\n",
       "    <tr>\n",
       "      <th>2</th>\n",
       "      <td>coding skills rating</td>\n",
       "      <td>[4, 2, 1, 6, 8, 3, 5, 9, 7]</td>\n",
       "    </tr>\n",
       "    <tr>\n",
       "      <th>3</th>\n",
       "      <td>public speaking points</td>\n",
       "      <td>[8, 3, 5, 1, 6, 4, 9, 7, 2]</td>\n",
       "    </tr>\n",
       "    <tr>\n",
       "      <th>4</th>\n",
       "      <td>certifications</td>\n",
       "      <td>[shell programming, machine learning, app deve...</td>\n",
       "    </tr>\n",
       "    <tr>\n",
       "      <th>5</th>\n",
       "      <td>workshops</td>\n",
       "      <td>[cloud computing, database security, web techn...</td>\n",
       "    </tr>\n",
       "    <tr>\n",
       "      <th>6</th>\n",
       "      <td>Interested subjects</td>\n",
       "      <td>[cloud computing, networks, hacking, Computer ...</td>\n",
       "    </tr>\n",
       "    <tr>\n",
       "      <th>7</th>\n",
       "      <td>interested career area</td>\n",
       "      <td>[system developer, Business process analyst, d...</td>\n",
       "    </tr>\n",
       "    <tr>\n",
       "      <th>8</th>\n",
       "      <td>Type of company want to settle in?</td>\n",
       "      <td>[Web Services, SAaS services, Sales and Market...</td>\n",
       "    </tr>\n",
       "    <tr>\n",
       "      <th>9</th>\n",
       "      <td>Management or Technical</td>\n",
       "      <td>[Management, Technical]</td>\n",
       "    </tr>\n",
       "    <tr>\n",
       "      <th>10</th>\n",
       "      <td>worked in teams ever?</td>\n",
       "      <td>[yes, no]</td>\n",
       "    </tr>\n",
       "    <tr>\n",
       "      <th>11</th>\n",
       "      <td>Introvert</td>\n",
       "      <td>[no, yes]</td>\n",
       "    </tr>\n",
       "    <tr>\n",
       "      <th>12</th>\n",
       "      <td>Suggested Job Role</td>\n",
       "      <td>[Database Developer, Portal Administrator, Sys...</td>\n",
       "    </tr>\n",
       "  </tbody>\n",
       "</table>\n",
       "</div>"
      ],
      "text/plain": [
       "                           Column_name  \\\n",
       "0              Logical quotient rating   \n",
       "1                           hackathons   \n",
       "2                 coding skills rating   \n",
       "3               public speaking points   \n",
       "4                       certifications   \n",
       "5                            workshops   \n",
       "6                  Interested subjects   \n",
       "7              interested career area    \n",
       "8   Type of company want to settle in?   \n",
       "9              Management or Technical   \n",
       "10               worked in teams ever?   \n",
       "11                           Introvert   \n",
       "12                  Suggested Job Role   \n",
       "\n",
       "                                        unique_values  \n",
       "0                         [4, 7, 1, 5, 3, 2, 9, 6, 8]  \n",
       "1                               [0, 1, 4, 3, 2, 6, 5]  \n",
       "2                         [4, 2, 1, 6, 8, 3, 5, 9, 7]  \n",
       "3                         [8, 3, 5, 1, 6, 4, 9, 7, 2]  \n",
       "4   [shell programming, machine learning, app deve...  \n",
       "5   [cloud computing, database security, web techn...  \n",
       "6   [cloud computing, networks, hacking, Computer ...  \n",
       "7   [system developer, Business process analyst, d...  \n",
       "8   [Web Services, SAaS services, Sales and Market...  \n",
       "9                             [Management, Technical]  \n",
       "10                                          [yes, no]  \n",
       "11                                          [no, yes]  \n",
       "12  [Database Developer, Portal Administrator, Sys...  "
      ]
     },
     "execution_count": 6,
     "metadata": {},
     "output_type": "execute_result"
    }
   ],
   "source": [
    "unique_values_of_columns = pd.DataFrame({\n",
    "    \"Column_name\" : df.columns,\n",
    "    \"unique_values\": [df[col].unique() for col in df.columns]\n",
    "})\n",
    "\n",
    "unique_values_of_columns"
   ]
  },
  {
   "cell_type": "code",
   "execution_count": 7,
   "metadata": {},
   "outputs": [
    {
     "data": {
      "image/png": "[encoded data removed]",
      "text/plain": [
       "<Figure size 640x480 with 1 Axes>"
      ]
     },
     "metadata": {},
     "output_type": "display_data"
    }
   ],
   "source": [
    "chart = sn.countplot(df, x = \"Suggested Job Role\", palette= \"icefire\")\n",
    "chart.set_xticklabels(chart.get_xticklabels(),rotation=90)\n",
    "plt.show()"
   ]
  },
  {
   "cell_type": "code",
   "execution_count": 8,
   "metadata": {},
   "outputs": [
    {
     "data": {
      "text/plain": [
       "Suggested Job Role\n",
       "Network Security Administrator               1112\n",
       "Network Security Engineer                     630\n",
       "Network Engineer                              621\n",
       "Project Manager                               602\n",
       "Database Administrator                        593\n",
       "Portal Administrator                          593\n",
       "Information Technology Manager                591\n",
       "Software Engineer                             590\n",
       "UX Designer                                   589\n",
       "Design & UX                                   588\n",
       "Software Developer                            587\n",
       "CRM Business Analyst                          584\n",
       "Business Systems Analyst                      582\n",
       "Database Developer                            581\n",
       "Solutions Architect                           578\n",
       "Software Systems Engineer                     575\n",
       "Software Quality Assurance (QA) / Testing     571\n",
       "Database Manager                              570\n",
       "Web Developer                                 570\n",
       "CRM Technical Developer                       567\n",
       "Technical Support                             565\n",
       "Quality Assurance Associate                   565\n",
       "Data Architect                                564\n",
       "Systems Security Administrator                562\n",
       "Information Technology Auditor                558\n",
       "Technical Services/Help Desk/Tech Support     558\n",
       "Technical Engineer                            557\n",
       "Applications Developer                        551\n",
       "Systems Analyst                               550\n",
       "E-Commerce Analyst                            546\n",
       "Information Security Analyst                  543\n",
       "Business Intelligence Analyst                 540\n",
       "Mobile Applications Developer                 538\n",
       "Programmer Analyst                            529\n",
       "Name: count, dtype: int64"
      ]
     },
     "execution_count": 8,
     "metadata": {},
     "output_type": "execute_result"
    }
   ],
   "source": [
    "df[\"Suggested Job Role\"].value_counts()"
   ]
  },
  {
   "cell_type": "code",
   "execution_count": 9,
   "metadata": {},
   "outputs": [
    {
     "data": {
      "text/html": [
       "<div>\n",
       "<style scoped>\n",
       "    .dataframe tbody tr th:only-of-type {\n",
       "        vertical-align: middle;\n",
       "    }\n",
       "\n",
       "    .dataframe tbody tr th {\n",
       "        vertical-align: top;\n",
       "    }\n",
       "\n",
       "    .dataframe thead th {\n",
       "        text-align: right;\n",
       "    }\n",
       "</style>\n",
       "<table border=\"1\" class=\"dataframe\">\n",
       "  <thead>\n",
       "    <tr style=\"text-align: right;\">\n",
       "      <th></th>\n",
       "      <th>Logical quotient rating</th>\n",
       "      <th>hackathons</th>\n",
       "      <th>coding skills rating</th>\n",
       "      <th>public speaking points</th>\n",
       "      <th>certifications</th>\n",
       "      <th>workshops</th>\n",
       "      <th>Interested subjects</th>\n",
       "      <th>interested career area</th>\n",
       "      <th>Type of company want to settle in?</th>\n",
       "      <th>Management or Technical</th>\n",
       "      <th>worked in teams ever?</th>\n",
       "      <th>Introvert</th>\n",
       "    </tr>\n",
       "  </thead>\n",
       "  <tbody>\n",
       "    <tr>\n",
       "      <th>0</th>\n",
       "      <td>4</td>\n",
       "      <td>0</td>\n",
       "      <td>4</td>\n",
       "      <td>8</td>\n",
       "      <td>shell programming</td>\n",
       "      <td>cloud computing</td>\n",
       "      <td>cloud computing</td>\n",
       "      <td>system developer</td>\n",
       "      <td>Web Services</td>\n",
       "      <td>Management</td>\n",
       "      <td>yes</td>\n",
       "      <td>no</td>\n",
       "    </tr>\n",
       "    <tr>\n",
       "      <th>1</th>\n",
       "      <td>7</td>\n",
       "      <td>1</td>\n",
       "      <td>2</td>\n",
       "      <td>3</td>\n",
       "      <td>machine learning</td>\n",
       "      <td>database security</td>\n",
       "      <td>networks</td>\n",
       "      <td>Business process analyst</td>\n",
       "      <td>SAaS services</td>\n",
       "      <td>Technical</td>\n",
       "      <td>no</td>\n",
       "      <td>yes</td>\n",
       "    </tr>\n",
       "    <tr>\n",
       "      <th>2</th>\n",
       "      <td>1</td>\n",
       "      <td>4</td>\n",
       "      <td>1</td>\n",
       "      <td>3</td>\n",
       "      <td>app development</td>\n",
       "      <td>web technologies</td>\n",
       "      <td>hacking</td>\n",
       "      <td>developer</td>\n",
       "      <td>Sales and Marketing</td>\n",
       "      <td>Management</td>\n",
       "      <td>no</td>\n",
       "      <td>yes</td>\n",
       "    </tr>\n",
       "    <tr>\n",
       "      <th>3</th>\n",
       "      <td>1</td>\n",
       "      <td>1</td>\n",
       "      <td>2</td>\n",
       "      <td>5</td>\n",
       "      <td>python</td>\n",
       "      <td>data science</td>\n",
       "      <td>networks</td>\n",
       "      <td>testing</td>\n",
       "      <td>Testing and Maintainance Services</td>\n",
       "      <td>Management</td>\n",
       "      <td>yes</td>\n",
       "      <td>yes</td>\n",
       "    </tr>\n",
       "    <tr>\n",
       "      <th>4</th>\n",
       "      <td>5</td>\n",
       "      <td>4</td>\n",
       "      <td>6</td>\n",
       "      <td>3</td>\n",
       "      <td>app development</td>\n",
       "      <td>cloud computing</td>\n",
       "      <td>Computer Architecture</td>\n",
       "      <td>testing</td>\n",
       "      <td>product development</td>\n",
       "      <td>Management</td>\n",
       "      <td>yes</td>\n",
       "      <td>yes</td>\n",
       "    </tr>\n",
       "    <tr>\n",
       "      <th>...</th>\n",
       "      <td>...</td>\n",
       "      <td>...</td>\n",
       "      <td>...</td>\n",
       "      <td>...</td>\n",
       "      <td>...</td>\n",
       "      <td>...</td>\n",
       "      <td>...</td>\n",
       "      <td>...</td>\n",
       "      <td>...</td>\n",
       "      <td>...</td>\n",
       "      <td>...</td>\n",
       "      <td>...</td>\n",
       "    </tr>\n",
       "    <tr>\n",
       "      <th>19995</th>\n",
       "      <td>2</td>\n",
       "      <td>6</td>\n",
       "      <td>1</td>\n",
       "      <td>8</td>\n",
       "      <td>app development</td>\n",
       "      <td>cloud computing</td>\n",
       "      <td>Software Engineering</td>\n",
       "      <td>system developer</td>\n",
       "      <td>Testing and Maintainance Services</td>\n",
       "      <td>Management</td>\n",
       "      <td>yes</td>\n",
       "      <td>no</td>\n",
       "    </tr>\n",
       "    <tr>\n",
       "      <th>19996</th>\n",
       "      <td>8</td>\n",
       "      <td>0</td>\n",
       "      <td>9</td>\n",
       "      <td>8</td>\n",
       "      <td>full stack</td>\n",
       "      <td>game development</td>\n",
       "      <td>Management</td>\n",
       "      <td>Business process analyst</td>\n",
       "      <td>Product based</td>\n",
       "      <td>Management</td>\n",
       "      <td>no</td>\n",
       "      <td>yes</td>\n",
       "    </tr>\n",
       "    <tr>\n",
       "      <th>19997</th>\n",
       "      <td>3</td>\n",
       "      <td>6</td>\n",
       "      <td>2</td>\n",
       "      <td>3</td>\n",
       "      <td>information security</td>\n",
       "      <td>database security</td>\n",
       "      <td>networks</td>\n",
       "      <td>cloud computing</td>\n",
       "      <td>SAaS services</td>\n",
       "      <td>Technical</td>\n",
       "      <td>no</td>\n",
       "      <td>yes</td>\n",
       "    </tr>\n",
       "    <tr>\n",
       "      <th>19998</th>\n",
       "      <td>1</td>\n",
       "      <td>4</td>\n",
       "      <td>9</td>\n",
       "      <td>5</td>\n",
       "      <td>full stack</td>\n",
       "      <td>cloud computing</td>\n",
       "      <td>IOT</td>\n",
       "      <td>testing</td>\n",
       "      <td>Cloud Services</td>\n",
       "      <td>Management</td>\n",
       "      <td>yes</td>\n",
       "      <td>no</td>\n",
       "    </tr>\n",
       "    <tr>\n",
       "      <th>19999</th>\n",
       "      <td>3</td>\n",
       "      <td>1</td>\n",
       "      <td>7</td>\n",
       "      <td>6</td>\n",
       "      <td>app development</td>\n",
       "      <td>database security</td>\n",
       "      <td>IOT</td>\n",
       "      <td>testing</td>\n",
       "      <td>Finance</td>\n",
       "      <td>Management</td>\n",
       "      <td>yes</td>\n",
       "      <td>no</td>\n",
       "    </tr>\n",
       "  </tbody>\n",
       "</table>\n",
       "<p>20000 rows × 12 columns</p>\n",
       "</div>"
      ],
      "text/plain": [
       "       Logical quotient rating  hackathons  coding skills rating  \\\n",
       "0                            4           0                     4   \n",
       "1                            7           1                     2   \n",
       "2                            1           4                     1   \n",
       "3                            1           1                     2   \n",
       "4                            5           4                     6   \n",
       "...                        ...         ...                   ...   \n",
       "19995                        2           6                     1   \n",
       "19996                        8           0                     9   \n",
       "19997                        3           6                     2   \n",
       "19998                        1           4                     9   \n",
       "19999                        3           1                     7   \n",
       "\n",
       "       public speaking points        certifications          workshops  \\\n",
       "0                           8     shell programming    cloud computing   \n",
       "1                           3      machine learning  database security   \n",
       "2                           3       app development   web technologies   \n",
       "3                           5                python       data science   \n",
       "4                           3       app development    cloud computing   \n",
       "...                       ...                   ...                ...   \n",
       "19995                       8       app development    cloud computing   \n",
       "19996                       8            full stack   game development   \n",
       "19997                       3  information security  database security   \n",
       "19998                       5            full stack    cloud computing   \n",
       "19999                       6       app development  database security   \n",
       "\n",
       "         Interested subjects   interested career area   \\\n",
       "0            cloud computing          system developer   \n",
       "1                   networks  Business process analyst   \n",
       "2                    hacking                 developer   \n",
       "3                   networks                   testing   \n",
       "4      Computer Architecture                   testing   \n",
       "...                      ...                       ...   \n",
       "19995   Software Engineering          system developer   \n",
       "19996             Management  Business process analyst   \n",
       "19997               networks           cloud computing   \n",
       "19998                    IOT                   testing   \n",
       "19999                    IOT                   testing   \n",
       "\n",
       "      Type of company want to settle in? Management or Technical  \\\n",
       "0                           Web Services              Management   \n",
       "1                          SAaS services               Technical   \n",
       "2                    Sales and Marketing              Management   \n",
       "3      Testing and Maintainance Services              Management   \n",
       "4                    product development              Management   \n",
       "...                                  ...                     ...   \n",
       "19995  Testing and Maintainance Services              Management   \n",
       "19996                      Product based              Management   \n",
       "19997                      SAaS services               Technical   \n",
       "19998                     Cloud Services              Management   \n",
       "19999                            Finance              Management   \n",
       "\n",
       "      worked in teams ever? Introvert  \n",
       "0                       yes        no  \n",
       "1                        no       yes  \n",
       "2                        no       yes  \n",
       "3                       yes       yes  \n",
       "4                       yes       yes  \n",
       "...                     ...       ...  \n",
       "19995                   yes        no  \n",
       "19996                    no       yes  \n",
       "19997                    no       yes  \n",
       "19998                   yes        no  \n",
       "19999                   yes        no  \n",
       "\n",
       "[20000 rows x 12 columns]"
      ]
     },
     "execution_count": 9,
     "metadata": {},
     "output_type": "execute_result"
    }
   ],
   "source": [
    "x = df.iloc[:,:-1]\n",
    "x"
   ]
  },
  {
   "cell_type": "code",
   "execution_count": 10,
   "metadata": {},
   "outputs": [
    {
     "data": {
      "text/plain": [
       "0                               Database Developer\n",
       "1                             Portal Administrator\n",
       "2                             Portal Administrator\n",
       "3                   Systems Security Administrator\n",
       "4                         Business Systems Analyst\n",
       "                           ...                    \n",
       "19995                           Technical Engineer\n",
       "19996                           E-Commerce Analyst\n",
       "19997                Business Intelligence Analyst\n",
       "19998    Software Quality Assurance (QA) / Testing\n",
       "19999                       Applications Developer\n",
       "Name: Suggested Job Role, Length: 20000, dtype: object"
      ]
     },
     "execution_count": 10,
     "metadata": {},
     "output_type": "execute_result"
    }
   ],
   "source": [
    "y = df.iloc[:,-1]\n",
    "y"
   ]
  },
  {
   "cell_type": "code",
   "execution_count": 11,
   "metadata": {},
   "outputs": [
    {
     "data": {
      "text/plain": [
       "array(['Database Developer', 'Portal Administrator',\n",
       "       'Systems Security Administrator', 'Business Systems Analyst',\n",
       "       'Software Systems Engineer', 'Business Intelligence Analyst',\n",
       "       'CRM Technical Developer', 'Mobile Applications Developer',\n",
       "       'UX Designer', 'Quality Assurance Associate', 'Web Developer',\n",
       "       'Information Security Analyst', 'CRM Business Analyst',\n",
       "       'Technical Support', 'Project Manager',\n",
       "       'Information Technology Manager', 'Programmer Analyst',\n",
       "       'Design & UX', 'Solutions Architect', 'Systems Analyst',\n",
       "       'Network Security Administrator', 'Data Architect',\n",
       "       'Software Developer', 'E-Commerce Analyst',\n",
       "       'Technical Services/Help Desk/Tech Support',\n",
       "       'Information Technology Auditor', 'Database Manager',\n",
       "       'Applications Developer', 'Database Administrator',\n",
       "       'Network Engineer', 'Software Engineer', 'Technical Engineer',\n",
       "       'Network Security Engineer',\n",
       "       'Software Quality Assurance (QA) / Testing'], dtype=object)"
      ]
     },
     "execution_count": 11,
     "metadata": {},
     "output_type": "execute_result"
    }
   ],
   "source": [
    "y.unique()"
   ]
  },
  {
   "cell_type": "code",
   "execution_count": 12,
   "metadata": {},
   "outputs": [],
   "source": [
    "x_ohe = OneHotEncoder().fit_transform(x)"
   ]
  },
  {
   "cell_type": "code",
   "execution_count": 13,
   "metadata": {},
   "outputs": [
    {
     "data": {
      "text/plain": [
       "(20000, 83)"
      ]
     },
     "execution_count": 13,
     "metadata": {},
     "output_type": "execute_result"
    }
   ],
   "source": [
    "x_ohe.shape"
   ]
  },
  {
   "cell_type": "code",
   "execution_count": 14,
   "metadata": {},
   "outputs": [],
   "source": [
    "x_standarad_scaler = StandardScaler(with_mean=False)"
   ]
  },
  {
   "cell_type": "code",
   "execution_count": 15,
   "metadata": {},
   "outputs": [],
   "source": [
    "x_standarad_scaler = x_standarad_scaler.fit_transform(x_ohe)"
   ]
  },
  {
   "cell_type": "markdown",
   "metadata": {},
   "source": [
    "**Clubbing the Classification Labels**  \n",
    "Now transforming data as shown under:\n",
    "\n",
    "- 'Solutions Architect' 'Data Architect' 'Information Technology Auditor' --> others\n",
    "- 'CRM Business Analyst' 'CRM Technical Developer' 'Project Manager' 'Information Technology Manager' --> Managerial roles/ CRM\n",
    "- 'Business Systems Analyst' 'Business Intelligence Analyst''E-Commerce Analyst'--> Analyst\n",
    "- 'Mobile Applications Developer' 'Web Developer''Applications Developer' --> Mobile Applications/ Web Development\n",
    "- 'Software Quality Assurance (QA) / Testing' 'Quality Assurance Associate' --> QA/Testing\n",
    "- 'UX Designer' 'Design & UX' --> UX/Design\n",
    "- 'Database Developer' 'Database Administrator' 'Database Manager' 'Portal Administrator' --> Databases\n",
    "- 'Programmer Analyst' 'Systems Analyst'--> Programming/ Systems Analyst\n",
    "- 'Network Security Administrator' 'Network Security Engineer' 'Network Engineer''Systems Security Administrator' 'Software Systems Engineer''Information Security Analyst' --> Networks/ Systems\n",
    "- 'Software Engineer' 'Software Developer' --> SE/SDE\n",
    "- 'Technical Engineer' 'Technical Services/Help Desk/Tech Support' 'Technical Support'--> Technical Support/Service"
   ]
  },
  {
   "cell_type": "code",
   "execution_count": 16,
   "metadata": {},
   "outputs": [],
   "source": [
    "y_trans = y.copy(deep=True)"
   ]
  },
  {
   "cell_type": "code",
   "execution_count": 17,
   "metadata": {},
   "outputs": [],
   "source": [
    "y_trans = y_trans.replace(['CRM Business Analyst','CRM Technical Developer','Project Manager', 'Information Technology Manager'],'CRM/Managerial Roles')\n",
    "y_trans = y_trans.replace(['Business Systems Analyst','Business Intelligence Analyst','E-Commerce Analyst'],'Analyst')\n",
    "y_trans = y_trans.replace(['Mobile Applications Developer','Web Developer', 'Applications Developer'],'Mobile Applications/ Web Development')\n",
    "y_trans = y_trans.replace(['Software Quality Assurance (QA) / Testing','Quality Assurance Associate'],'QA/Testing')\n",
    "y_trans = y_trans.replace(['UX Designer','Design & UX'] , 'UX/Design')\n",
    "y_trans = y_trans.replace(['Database Developer','Database Administrator', 'Database Manager','Portal Administrator'] , 'Databases')\n",
    "y_trans = y_trans.replace(['Programmer Analyst','Systems Analyst'],'Programming/ Systems Analyst')\n",
    "y_trans = y_trans.replace(['Network Security Administrator','Network Security Engineer', 'Network Engineer','Systems Security Administrator', 'Software Systems Engineer','Information Security Analyst'],'Networks/ Systems')\n",
    "y_trans = y_trans.replace(['Software Engineer','Software Developer'] ,'SE/SDE')\n",
    "y_trans = y_trans.replace(['Technical Engineer','Technical Services/Help Desk/Tech Support', 'Technical Support'],'Technical Support/Service')\n",
    "y_trans = y_trans.replace(['Solutions Architect','Data Architect','Information Technology Auditor'],'others')"
   ]
  },
  {
   "cell_type": "code",
   "execution_count": 18,
   "metadata": {},
   "outputs": [
    {
     "data": {
      "text/plain": [
       "0                                   Databases\n",
       "1                                   Databases\n",
       "2                                   Databases\n",
       "3                           Networks/ Systems\n",
       "4                                     Analyst\n",
       "                         ...                 \n",
       "19995               Technical Support/Service\n",
       "19996                                 Analyst\n",
       "19997                                 Analyst\n",
       "19998                              QA/Testing\n",
       "19999    Mobile Applications/ Web Development\n",
       "Name: Suggested Job Role, Length: 20000, dtype: object"
      ]
     },
     "execution_count": 18,
     "metadata": {},
     "output_type": "execute_result"
    }
   ],
   "source": [
    "y_trans"
   ]
  },
  {
   "cell_type": "code",
   "execution_count": 19,
   "metadata": {},
   "outputs": [
    {
     "data": {
      "image/png": "[encoded data removed]",
      "text/plain": [
       "<Figure size 640x480 with 1 Axes>"
      ]
     },
     "metadata": {},
     "output_type": "display_data"
    }
   ],
   "source": [
    "chart = sn.countplot(x=y_trans, palette= \"turbo\")\n",
    "chart.set_xticklabels(chart.get_xticklabels(),rotation=90)\n",
    "plt.show()"
   ]
  },
  {
   "cell_type": "markdown",
   "metadata": {},
   "source": [
    "As data has imbalanced suggested job roles, so we have to do oversmapling to make it a balance and to reduce noice."
   ]
  },
  {
   "cell_type": "code",
   "execution_count": 20,
   "metadata": {},
   "outputs": [],
   "source": [
    "x_oversampling = sparse.csr_matrix.copy(x_standarad_scaler)\n",
    "y_oversampling = y_trans.copy(deep=True)"
   ]
  },
  {
   "cell_type": "code",
   "execution_count": 21,
   "metadata": {},
   "outputs": [],
   "source": [
    "ros = RandomOverSampler(random_state= 42)\n",
    "x_overs, y_overs = ros.fit_resample(x_oversampling, y_oversampling)"
   ]
  },
  {
   "cell_type": "code",
   "execution_count": 22,
   "metadata": {},
   "outputs": [
    {
     "data": {
      "image/png": "[encoded data removed]",
      "text/plain": [
       "<Figure size 640x480 with 1 Axes>"
      ]
     },
     "metadata": {},
     "output_type": "display_data"
    }
   ],
   "source": [
    "chart = sn.countplot(x=y_overs, palette= \"Accent\")\n",
    "chart.set_xticklabels(chart.get_xticklabels(),rotation=90)\n",
    "plt.show()"
   ]
  },
  {
   "cell_type": "code",
   "execution_count": 23,
   "metadata": {},
   "outputs": [
    {
     "data": {
      "text/plain": [
       "(44473, 83)"
      ]
     },
     "execution_count": 23,
     "metadata": {},
     "output_type": "execute_result"
    }
   ],
   "source": [
    "x_overs.shape"
   ]
  },
  {
   "cell_type": "code",
   "execution_count": 24,
   "metadata": {},
   "outputs": [],
   "source": [
    "X_train, X_test, y_train, y_test = train_test_split(x_overs,y_overs,test_size=0.2)"
   ]
  },
  {
   "cell_type": "code",
   "execution_count": 25,
   "metadata": {},
   "outputs": [
    {
     "name": "stdout",
     "output_type": "stream",
     "text": [
      "Training Accuracy Score:  1.0\n",
      "Testing Accuracy Score:  0.7976391231028668\n"
     ]
    }
   ],
   "source": [
    "clf = MLPClassifier(activation='relu', hidden_layer_sizes = (64,128,256,512, 64), solver = 'adam')\n",
    "clf.fit(X_train,y_train)\n",
    "print(\"Training Accuracy Score: \",accuracy_score(clf.predict(X_train),y_train))\n",
    "print(\"Testing Accuracy Score: \",accuracy_score(clf.predict(X_test),y_test))"
   ]
  },
  {
   "cell_type": "code",
   "execution_count": 26,
   "metadata": {},
   "outputs": [],
   "source": [
    "cm_train = confusion_matrix(clf.predict(X_train),y_train)\n",
    "cm_test = confusion_matrix(clf.predict(X_test),y_test)"
   ]
  },
  {
   "cell_type": "code",
   "execution_count": 27,
   "metadata": {},
   "outputs": [
    {
     "name": "stdout",
     "output_type": "stream",
     "text": [
      "Train classwise accuracies\n",
      "[1. 1. 1. 1. 1. 1. 1. 1. 1. 1. 1.]\n",
      "Test classwise accuracies\n",
      "[0.82629108 0.71542553 0.67336011 0.82147477 0.40674603 0.86515642\n",
      " 0.87360179 0.86085973 0.84029484 0.87542088 0.81913652]\n"
     ]
    }
   ],
   "source": [
    "print(\"Train classwise accuracies\")\n",
    "print(cm_train.diagonal()/cm_train.sum(axis=1))\n",
    "print(\"Test classwise accuracies\")\n",
    "print(cm_test.diagonal()/cm_test.sum(axis=1))"
   ]
  },
  {
   "cell_type": "code",
   "execution_count": 28,
   "metadata": {},
   "outputs": [],
   "source": [
    "CRM_Managerial_Roles = ['CRM Business Analyst','CRM Technical Developer','Project Manager','Information Technology Manager']\n",
    "Analyst = ['Business Systems Analyst','Business Intelligence Analyst','E-Commerce Analyst']\n",
    "Mobile_Applications_Web_Development = ['Mobile Applications Developer','Web Developer','Applications Developer']\n",
    "QA_Testing = ['Software Quality Assurance (QA) / Testing','Quality Assurance Associate']\n",
    "UX_Design = ['UX Designer','Design & UX']\n",
    "Databases = ['Database Developer','Database Administrator','Database Manager','Portal Administrator']\n",
    "Programming_Systems_Analyst = ['Programmer Analyst','Systems Analyst']\n",
    "Networks_Systems = ['Network Security Administrator','Network Security Engineer','Network Engineer', 'Systems Security Administrator','Software Systems Engineer','Information Security Analyst']\n",
    "SE_SDE = ['Software Engineer','Software Developer']\n",
    "Technical_Support_Service = ['Technical Engineer','Technical Services/Help Desk/Tech Support','Technical Support']\n",
    "others = ['Solutions Architect','Data Architect','Information Technology Auditor']"
   ]
  },
  {
   "cell_type": "code",
   "execution_count": 29,
   "metadata": {},
   "outputs": [
    {
     "data": {
      "text/plain": [
       "array(['SE/SDE'], dtype='<U36')"
      ]
     },
     "execution_count": 29,
     "metadata": {},
     "output_type": "execute_result"
    }
   ],
   "source": [
    "new_data = OneHotEncoder().fit_transform(x)\n",
    "new_data = StandardScaler(with_mean=False).fit_transform(new_data)\n",
    "new_data = sparse.csr_matrix.copy(new_data)\n",
    "output=clf.predict(new_data[467])\n",
    "output"
   ]
  },
  {
   "cell_type": "code",
   "execution_count": 30,
   "metadata": {},
   "outputs": [],
   "source": [
    "if output[0] == 'CRM/Managerial Roles':\n",
    "    cat=CRM_Managerial_Roles\n",
    "elif output[0] == 'Analyst':\n",
    "    cat=Analyst\n",
    "elif output[0] == 'Mobile Applications/ Web Development':\n",
    "    cat=Mobile_Applications_Web_Development\n",
    "elif output[0] == 'QA/Testing':\n",
    "    cat=QA_Testing\n",
    "elif output[0] == 'UX/Design':\n",
    "    cat=UX_Design\n",
    "elif output[0] == 'Databases':\n",
    "    cat=Databases\n",
    "elif output[0] == 'Programming/ Systems Analyst':\n",
    "    cat=Programming_Systems_Analyst\n",
    "elif output[0] == 'Networks/ Systems':\n",
    "    cat=Networks_Systems\n",
    "elif output[0] == 'SE/SDE':\n",
    "    cat=SE_SDE\n",
    "elif output[0] == 'Technical Support/Service':\n",
    "    cat=Technical_Support_Service\n",
    "else:\n",
    "    cat=others"
   ]
  },
  {
   "cell_type": "code",
   "execution_count": 31,
   "metadata": {},
   "outputs": [
    {
     "name": "stdout",
     "output_type": "stream",
     "text": [
      "Suggested job role catogory is: 'SE/SDE'\n",
      "\n",
      "possible job roles in the suggested category are:\n",
      "Software Engineer\n",
      "Software Developer\n"
     ]
    }
   ],
   "source": [
    "print(f\"Suggested job role catogory is: '{output[0]}'\\n\")\n",
    "print(\"possible job roles in the suggested category are:\")\n",
    "for i in cat:\n",
    "    print(i)"
   ]
  },
  {
   "cell_type": "code",
   "execution_count": 32,
   "metadata": {},
   "outputs": [],
   "source": [
    "file = open(\"MLPclassifier_model.pkl\",\"wb\")\n",
    "pickle.dump(clf,file)\n",
    "file.close()"
   ]
  },
  {
   "cell_type": "code",
   "execution_count": null,
   "metadata": {},
   "outputs": [],
   "source": []
  }
 ],
 "metadata": {
  "kernelspec": {
   "display_name": "Python 3",
   "language": "python",
   "name": "python3"
  },
  "language_info": {
   "codemirror_mode": {
    "name": "ipython",
    "version": 3
   },
   "file_extension": ".py",
   "mimetype": "text/x-python",
   "name": "python",
   "nbconvert_exporter": "python",
   "pygments_lexer": "ipython3",
   "version": "3.11.5"
  }
 },
 "nbformat": 4,
 "nbformat_minor": 2
}
